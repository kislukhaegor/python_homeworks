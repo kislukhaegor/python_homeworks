{
 "cells": [
  {
   "cell_type": "code",
   "execution_count": 13,
   "metadata": {},
   "outputs": [],
   "source": [
    "import re\n",
    "from urllib.parse import urlparse\n",
    "from datetime import datetime\n",
    "\n",
    "class LogLine:\n",
    "    compile_parser = re.compile(r'\\[(.+)\\] \\\"(.+) (.+) (.+)\\\" (\\d+) (\\d+)')\n",
    "    def __init__(\n",
    "        self,\n",
    "        line,\n",
    "        ignore_www=False\n",
    "    ):\n",
    "        self._line = line.strip()\n",
    "        match_obj = LogLine.compile_parser.match(self._line)\n",
    "        if not match_obj:\n",
    "            raise LogLineParseException(self._line)\n",
    "        self._line_components = {\n",
    "            'request_date': datetime.strptime(match_obj.group(1), '%d/%b/%Y %X'),\n",
    "            'request_type': match_obj.group(2),\n",
    "            'request' :  match_obj.group(3), \n",
    "            'protocol':  match_obj.group(4),\n",
    "            'response_code' :  match_obj.group(5),\n",
    "            'response_time' :  match_obj.group(6)\n",
    "        }\n",
    "        if ignore_www:\n",
    "            if 'www' in self.line_components['request']:\n",
    "                self._line_components['request'] = self._line_components['request'][4:]\n",
    "\n",
    "    def __getitem__(self, key):\n",
    "        return _line_components[key]\n",
    "\n",
    "    def get_url(self):\n",
    "        url = urlparse(self['request'])\n",
    "        return url.netloc + url.path\n",
    "\n",
    "    def __str__(self):\n",
    "        return self._line\n",
    "\n",
    "    def __hash__(self):\n",
    "        return hash(self._line)"
   ]
  },
  {
   "cell_type": "code",
   "execution_count": 14,
   "metadata": {},
   "outputs": [
    {
     "ename": "TypeError",
     "evalue": "'_sre.SRE_Match' object is not callable",
     "output_type": "error",
     "traceback": [
      "\u001b[0;31m---------------------------------------------------------------------------\u001b[0m",
      "\u001b[0;31mTypeError\u001b[0m                                 Traceback (most recent call last)",
      "\u001b[0;32m<ipython-input-14-5397a23de3ea>\u001b[0m in \u001b[0;36m<module>\u001b[0;34m()\u001b[0m\n\u001b[1;32m      1\u001b[0m \u001b[0md\u001b[0m \u001b[0;34m=\u001b[0m \u001b[0mdict\u001b[0m\u001b[0;34m(\u001b[0m\u001b[0;34m)\u001b[0m\u001b[0;34m\u001b[0m\u001b[0m\n\u001b[0;32m----> 2\u001b[0;31m \u001b[0mlog_line\u001b[0m \u001b[0;34m=\u001b[0m \u001b[0mLogLine\u001b[0m\u001b[0;34m(\u001b[0m\u001b[0;34m'[21/Mar/2018 21:32:09] \"GET https://sys.mail.ru/static/css/reset.css HTTPS/1.1\" 200 1090'\u001b[0m\u001b[0;34m)\u001b[0m\u001b[0;34m\u001b[0m\u001b[0m\n\u001b[0m",
      "\u001b[0;32m<ipython-input-13-440fec0beadc>\u001b[0m in \u001b[0;36m__init__\u001b[0;34m(self, line, ignore_www)\u001b[0m\n\u001b[1;32m     16\u001b[0m         self._line_components = {\n\u001b[1;32m     17\u001b[0m             \u001b[0;34m'request_date'\u001b[0m\u001b[0;34m:\u001b[0m \u001b[0mdatetime\u001b[0m\u001b[0;34m.\u001b[0m\u001b[0mstrptime\u001b[0m\u001b[0;34m(\u001b[0m\u001b[0mmatch_obj\u001b[0m\u001b[0;34m.\u001b[0m\u001b[0mgroup\u001b[0m\u001b[0;34m(\u001b[0m\u001b[0;36m1\u001b[0m\u001b[0;34m)\u001b[0m\u001b[0;34m,\u001b[0m \u001b[0;34m'%d/%b/%Y %X'\u001b[0m\u001b[0;34m)\u001b[0m\u001b[0;34m,\u001b[0m\u001b[0;34m\u001b[0m\u001b[0m\n\u001b[0;32m---> 18\u001b[0;31m             \u001b[0;34m'request_type'\u001b[0m\u001b[0;34m:\u001b[0m \u001b[0mmatch_obj\u001b[0m\u001b[0;34m(\u001b[0m\u001b[0;36m2\u001b[0m\u001b[0;34m)\u001b[0m\u001b[0;34m,\u001b[0m\u001b[0;34m\u001b[0m\u001b[0m\n\u001b[0m\u001b[1;32m     19\u001b[0m             \u001b[0;34m'request'\u001b[0m \u001b[0;34m:\u001b[0m \u001b[0mmatch_obj\u001b[0m\u001b[0;34m(\u001b[0m\u001b[0;36m3\u001b[0m\u001b[0;34m)\u001b[0m\u001b[0;34m,\u001b[0m\u001b[0;34m\u001b[0m\u001b[0m\n\u001b[1;32m     20\u001b[0m             \u001b[0;34m'protocol'\u001b[0m\u001b[0;34m:\u001b[0m \u001b[0mmatch_obj\u001b[0m\u001b[0;34m(\u001b[0m\u001b[0;36m4\u001b[0m\u001b[0;34m)\u001b[0m\u001b[0;34m,\u001b[0m\u001b[0;34m\u001b[0m\u001b[0m\n",
      "\u001b[0;31mTypeError\u001b[0m: '_sre.SRE_Match' object is not callable"
     ]
    }
   ],
   "source": [
    "d = dict()\n",
    "log_line = LogLine('[21/Mar/2018 21:32:09] \"GET https://sys.mail.ru/static/css/reset.css HTTPS/1.1\" 200 1090')"
   ]
  },
  {
   "cell_type": "code",
   "execution_count": null,
   "metadata": {},
   "outputs": [],
   "source": []
  }
 ],
 "metadata": {
  "kernelspec": {
   "display_name": "Python 3",
   "language": "python",
   "name": "python3"
  },
  "language_info": {
   "codemirror_mode": {
    "name": "ipython",
    "version": 3
   },
   "file_extension": ".py",
   "mimetype": "text/x-python",
   "name": "python",
   "nbconvert_exporter": "python",
   "pygments_lexer": "ipython3",
   "version": "3.6.5"
  }
 },
 "nbformat": 4,
 "nbformat_minor": 2
}
