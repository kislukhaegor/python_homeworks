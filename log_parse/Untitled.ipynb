{
 "cells": [
  {
   "cell_type": "code",
   "execution_count": 45,
   "metadata": {},
   "outputs": [],
   "source": [
    "import re\n",
    "from urllib.parse import urlparse\n",
    "from datetime import datetime\n",
    "line = '[21/Mar/2018 21:32:09] \"GET https://corp.mail.ru/static/css/login.css HTTPS/1.1\" 200 638'\n",
    "a = re.match(r'\\[(.*)\\] \\\"(.*) (.*) (.*)\\\" (\\d+) (\\d+)', line)"
   ]
  },
  {
   "cell_type": "code",
   "execution_count": 47,
   "metadata": {},
   "outputs": [
    {
     "name": "stdout",
     "output_type": "stream",
     "text": [
      "21/Mar/2018 21:32:09\n"
     ]
    },
    {
     "data": {
      "text/plain": [
       "ParseResult(scheme='https', netloc='corp.mail.ru', path='/static/css/login.css', params='', query='', fragment='')"
      ]
     },
     "execution_count": 47,
     "metadata": {},
     "output_type": "execute_result"
    }
   ],
   "source": [
    "url = a.group(3)\n",
    "urlparse(url)"
   ]
  },
  {
   "cell_type": "code",
   "execution_count": 63,
   "metadata": {},
   "outputs": [
    {
     "name": "stdout",
     "output_type": "stream",
     "text": [
      "2018-03-21 21:32:09\n"
     ]
    }
   ],
   "source": [
    "\n",
    "print(datetime.strptime(a.group(1), '%d/%b/%Y %X'))"
   ]
  },
  {
   "cell_type": "code",
   "execution_count": null,
   "metadata": {},
   "outputs": [],
   "source": []
  },
  {
   "cell_type": "code",
   "execution_count": null,
   "metadata": {},
   "outputs": [],
   "source": []
  }
 ],
 "metadata": {
  "kernelspec": {
   "display_name": "Python 3",
   "language": "python",
   "name": "python3"
  },
  "language_info": {
   "codemirror_mode": {
    "name": "ipython",
    "version": 3
   },
   "file_extension": ".py",
   "mimetype": "text/x-python",
   "name": "python",
   "nbconvert_exporter": "python",
   "pygments_lexer": "ipython3",
   "version": "3.6.5"
  }
 },
 "nbformat": 4,
 "nbformat_minor": 2
}
