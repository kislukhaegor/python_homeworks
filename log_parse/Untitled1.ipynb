{
 "cells": [
  {
   "cell_type": "code",
   "execution_count": 15,
   "metadata": {},
   "outputs": [],
   "source": [
    "import re\n",
    "from urllib.parse import urlparse\n",
    "from datetime import datetime\n",
    "\n",
    "class LogLine:\n",
    "    compile_parser = re.compile(r'\\[(.+)\\] \\\"(.+) (.+) (.+)\\\" (\\d+) (\\d+)')\n",
    "    def __init__(\n",
    "        self,\n",
    "        line,\n",
    "        ignore_www=False\n",
    "    ):\n",
    "        self._line = line.strip()\n",
    "        match_obj = LogLine.compile_parser.match(self._line)\n",
    "        if not match_obj:\n",
    "            raise LogLineParseException(self._line)\n",
    "        self._line_components = {\n",
    "            'request_date': datetime.strptime(match_obj.group(1), '%d/%b/%Y %X'),\n",
    "            'request_type': match_obj.group(2),\n",
    "            'request' :  match_obj.group(3), \n",
    "            'protocol':  match_obj.group(4),\n",
    "            'response_code' :  match_obj.group(5),\n",
    "            'response_time' :  match_obj.group(6)\n",
    "        }\n",
    "        if ignore_www:\n",
    "            if 'www' in self.line_components['request']:\n",
    "                self._line_components['request'] = self._line_components['request'][4:]\n",
    "\n",
    "    def __getitem__(self, key):\n",
    "        return _line_components[key]\n",
    "\n",
    "    def get_url(self):\n",
    "        url = urlparse(self['request'])\n",
    "        return url.netloc + url.path\n",
    "\n",
    "    def __str__(self):\n",
    "        return self._line\n",
    "\n",
    "    def __hash__(self):\n",
    "        return hash(self._line)"
   ]
  },
  {
   "cell_type": "code",
   "execution_count": 16,
   "metadata": {},
   "outputs": [],
   "source": [
    "d = dict()\n",
    "log_line = LogLine('[21/Mar/2018 21:32:09] \"GET https://sys.mail.ru/static/css/reset.css HTTPS/1.1\" 200 1090')"
   ]
  },
  {
   "cell_type": "code",
   "execution_count": 17,
   "metadata": {},
   "outputs": [],
   "source": [
    "d[log_line] = 0"
   ]
  },
  {
   "cell_type": "code",
   "execution_count": 18,
   "metadata": {},
   "outputs": [
    {
     "data": {
      "text/plain": [
       "{<__main__.LogLine at 0x7f95f27d5e80>: 0}"
      ]
     },
     "execution_count": 18,
     "metadata": {},
     "output_type": "execute_result"
    }
   ],
   "source": [
    "d"
   ]
  },
  {
   "cell_type": "code",
   "execution_count": null,
   "metadata": {},
   "outputs": [],
   "source": []
  }
 ],
 "metadata": {
  "kernelspec": {
   "display_name": "Python 3",
   "language": "python",
   "name": "python3"
  },
  "language_info": {
   "codemirror_mode": {
    "name": "ipython",
    "version": 3
   },
   "file_extension": ".py",
   "mimetype": "text/x-python",
   "name": "python",
   "nbconvert_exporter": "python",
   "pygments_lexer": "ipython3",
   "version": "3.6.5"
  }
 },
 "nbformat": 4,
 "nbformat_minor": 2
}
